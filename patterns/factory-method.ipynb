{
 "cells": [
  {
   "cell_type": "code",
   "execution_count": 1,
   "metadata": {},
   "outputs": [],
   "source": [
    "class Coffee(object):\n",
    "    \n",
    "    def __init__(self):\n",
    "        self._price = 0\n",
    "        self._name = '커피'\n",
    "\n",
    "    def get_price(self):\n",
    "        return self._price\n",
    "\n",
    "    def get_name(self):\n",
    "        return self._name\n",
    "\n",
    "class Americano(Coffee):\n",
    "    def __init__(self):\n",
    "        self._price = 3000\n",
    "        self._name = '아메리카노'\n",
    "\n",
    "class Latte(Coffee):\n",
    "    def __init__(self):\n",
    "        self._price = 4000\n",
    "        self._name = '라떼'\n",
    "\n",
    "class Cafe(object):\n",
    "    \n",
    "    def create_coffee(self, menu):\n",
    "        if menu == 1:\n",
    "            return Americano()\n",
    "        if menu == 2:\n",
    "            return Latte()\n",
    "        return Coffee()"
   ]
  },
  {
   "cell_type": "code",
   "execution_count": 2,
   "metadata": {},
   "outputs": [
    {
     "name": "stdout",
     "output_type": "stream",
     "text": [
      "아메리카노\n",
      "라떼\n"
     ]
    }
   ],
   "source": [
    "cafe = Cafe()\n",
    "coffee_1 = cafe.create_coffee(1)\n",
    "coffee_2 = cafe.create_coffee(2)\n",
    "print(coffee_1.get_name())\n",
    "print(coffee_2.get_name())"
   ]
  }
 ],
 "metadata": {
  "kernelspec": {
   "display_name": "Python 3",
   "language": "python",
   "name": "python3"
  },
  "language_info": {
   "codemirror_mode": {
    "name": "ipython",
    "version": 3
   },
   "file_extension": ".py",
   "mimetype": "text/x-python",
   "name": "python",
   "nbconvert_exporter": "python",
   "pygments_lexer": "ipython3",
   "version": "3.7.2"
  }
 },
 "nbformat": 4,
 "nbformat_minor": 2
}
