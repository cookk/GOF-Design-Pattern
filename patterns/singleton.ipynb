{
 "cells": [
  {
   "cell_type": "code",
   "execution_count": 65,
   "metadata": {},
   "outputs": [],
   "source": [
    "class Singleton:\n",
    "    _instance = None\n",
    "    \n",
    "    @classmethod\n",
    "    def get_instance(cls):\n",
    "        if not cls._instance:\n",
    "            cls._instance = Singleton()\n",
    "        return cls._instance\n",
    "        \n",
    "class NoSingleton:\n",
    "    def get_instance(self):\n",
    "        return self\n",
    "    \n",
    "def are_they_same_instance(instance_1, instance_2):\n",
    "    if instance_1 is instance_2:\n",
    "        return True\n",
    "    return False"
   ]
  },
  {
   "cell_type": "code",
   "execution_count": 66,
   "metadata": {},
   "outputs": [
    {
     "name": "stdout",
     "output_type": "stream",
     "text": [
      "True\n",
      "False\n"
     ]
    }
   ],
   "source": [
    "singleton_1 = Singleton().get_instance()\n",
    "singleton_2 = Singleton().get_instance()\n",
    "\n",
    "no_singleton_1 = NoSingleton()\n",
    "no_singleton_2 = NoSingleton()\n",
    "\n",
    "print(are_they_same_instance(singleton_1, singleton_2))\n",
    "print(are_they_same_instance(no_singleton_1, no_singleton_2))"
   ]
  },
  {
   "cell_type": "code",
   "execution_count": 67,
   "metadata": {},
   "outputs": [
    {
     "name": "stdout",
     "output_type": "stream",
     "text": [
      "True\n",
      "False\n"
     ]
    }
   ],
   "source": [
    "# tip: auto interning(number)\n",
    "# https://docs.python.org/3/c-api/long.html#c.PyLong_FromLong\n",
    "# https://github.com/python/cpython/blob/master/Objects/longobject.c#L49\n",
    "a = 1\n",
    "b = 1\n",
    "\n",
    "c = 500\n",
    "d = 500\n",
    "\n",
    "print(are_they_same_instance(a, b))\n",
    "print(are_they_same_instance(c, d))"
   ]
  },
  {
   "cell_type": "code",
   "execution_count": 68,
   "metadata": {},
   "outputs": [
    {
     "name": "stdout",
     "output_type": "stream",
     "text": [
      "True\n",
      "False\n"
     ]
    }
   ],
   "source": [
    "# tip: auto interning(string)\n",
    "# http://pythonstudy.xyz/python/article/512-%ED%8C%8C%EC%9D%B4%EC%8D%AC-Object-Interning\n",
    "# https://github.com/python/cpython/blob/master/Objects/codeobject.c#L40\n",
    "a = 'short'\n",
    "b = 'short'\n",
    "\n",
    "c = 'i am not short string bla bla bla'\n",
    "d = 'i am not short string bla bla bla'\n",
    "\n",
    "print(are_they_same_instance(a, b))\n",
    "print(are_they_same_instance(c, d))"
   ]
  },
  {
   "cell_type": "code",
   "execution_count": 71,
   "metadata": {},
   "outputs": [
    {
     "name": "stdout",
     "output_type": "stream",
     "text": [
      "False\n",
      "True\n"
     ]
    }
   ],
   "source": [
    "# tip: interning(string)\n",
    "from sys import intern\n",
    "\n",
    "a = intern(\"i am not short string bla bla bla\")\n",
    "b = \"i am not short string bla bla bla\"\n",
    "c = intern(\"i am not short string bla bla bla\")\n",
    "\n",
    "print(are_they_same_instance(a, b))\n",
    "print(are_they_same_instance(a, c))"
   ]
  }
 ],
 "metadata": {
  "kernelspec": {
   "display_name": "Python 3",
   "language": "python",
   "name": "python3"
  },
  "language_info": {
   "codemirror_mode": {
    "name": "ipython",
    "version": 3
   },
   "file_extension": ".py",
   "mimetype": "text/x-python",
   "name": "python",
   "nbconvert_exporter": "python",
   "pygments_lexer": "ipython3",
   "version": "3.7.2"
  }
 },
 "nbformat": 4,
 "nbformat_minor": 2
}
