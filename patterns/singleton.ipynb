{
 "cells": [
  {
   "cell_type": "code",
   "execution_count": 17,
   "metadata": {},
   "outputs": [],
   "source": [
    "import threading\n",
    "\n",
    "\n",
    "# no singleton.\n",
    "class NoSingleton:\n",
    "    def get_instance(self):\n",
    "        return self\n",
    "\n",
    "\n",
    "# not thread safe.\n",
    "class Singleton(object):\n",
    "    _instance = None\n",
    "    \n",
    "    def __new__(cls):\n",
    "        if not cls._instance:\n",
    "            cls._instance = super(Singleton, cls).__new__(cls)\n",
    "        return cls._instance\n",
    "\n",
    "    \n",
    "# DCL(Double-Checked-Locking). almost thread safe(except reordering).\n",
    "class SingletonDCL(object):\n",
    "    _lock = threading.Lock()\n",
    "    _instance = None\n",
    "    \n",
    "    def __new__(cls):\n",
    "        if not cls._instance:\n",
    "            with cls._lock:\n",
    "                if not cls._instance:\n",
    "                    cls._instance = super(SingletonDCL, cls).__new__(cls)\n",
    "        return cls._instance\n",
    "\n",
    "    \n",
    "# Static Initializing. thread safe. less resource efficiency.\n",
    "class SingletonStatic(object):\n",
    "    _instance = Singleton()\n",
    "    \n",
    "    def __new__(cls):\n",
    "        return cls._instance\n",
    "\n",
    "    \n",
    "# Lazy Holder. thread safe. best solution. (but i think this not works in python;;)\n",
    "# class SingletonLazyHolder(object):\n",
    "#     class LazyHolder(object):\n",
    "#         instance = SingletonLazyHolder()\n",
    "#         \n",
    "#     def __new__(cls):\n",
    "#         return LazyHolder.instance\n",
    "\n",
    "\n",
    "def are_they_same_instance(instance_1, instance_2):\n",
    "    if instance_1 is instance_2:\n",
    "        return 'same instance'\n",
    "    return 'different instance'"
   ]
  },
  {
   "cell_type": "code",
   "execution_count": 18,
   "metadata": {},
   "outputs": [
    {
     "name": "stdout",
     "output_type": "stream",
     "text": [
      "no singleton :  different instance\n",
      "singleton :  same instance\n",
      "singleton(DCL) :  same instance\n",
      "singleton(static) :  same instance\n"
     ]
    }
   ],
   "source": [
    "no_singleton_1 = NoSingleton()\n",
    "no_singleton_2 = NoSingleton()\n",
    "\n",
    "singleton_1 = Singleton()\n",
    "singleton_2 = Singleton()\n",
    "\n",
    "singleton_dcl_1 = SingletonDCL()\n",
    "singleton_dcl_2 = SingletonDCL()\n",
    "\n",
    "singleton_static_1 = SingletonStatic()\n",
    "singleton_static_2 = SingletonStatic()\n",
    "\n",
    "# singleton_lazy_holder_1 = SingletonLazyHolder()\n",
    "# singleton_lazy_holder_2 = SingletonLazyHolder()\n",
    "\n",
    "print('no singleton : ', are_they_same_instance(no_singleton_1, no_singleton_2))\n",
    "print('singleton : ', are_they_same_instance(singleton_1, singleton_2))\n",
    "print('singleton(DCL) : ', are_they_same_instance(singleton_dcl_1, singleton_dcl_2))\n",
    "print('singleton(static) : ', are_they_same_instance(singleton_static_1, singleton_static_2))\n",
    "# print('singleton(lazy_holder) : ', are_they_same_instance(singleton_lazy_holder_1, singleton_lazy_holder_2))"
   ]
  },
  {
   "cell_type": "code",
   "execution_count": 19,
   "metadata": {},
   "outputs": [
    {
     "name": "stdout",
     "output_type": "stream",
     "text": [
      "a, b :  same instance\n",
      "c, d :  different instance\n"
     ]
    }
   ],
   "source": [
    "# tip: auto interning(number)\n",
    "# https://docs.python.org/3/c-api/long.html#c.PyLong_FromLong\n",
    "# https://github.com/python/cpython/blob/master/Objects/longobject.c#L49\n",
    "a = 1\n",
    "b = 1\n",
    "\n",
    "c = 500\n",
    "d = 500\n",
    "\n",
    "print('a, b : ', are_they_same_instance(a, b))\n",
    "print('c, d : ', are_they_same_instance(c, d))"
   ]
  },
  {
   "cell_type": "code",
   "execution_count": 20,
   "metadata": {},
   "outputs": [
    {
     "name": "stdout",
     "output_type": "stream",
     "text": [
      "a, b :  same instance\n",
      "c, d :  different instance\n"
     ]
    }
   ],
   "source": [
    "# tip: auto interning(string)\n",
    "# http://pythonstudy.xyz/python/article/512-%ED%8C%8C%EC%9D%B4%EC%8D%AC-Object-Interning\n",
    "# https://github.com/python/cpython/blob/master/Objects/codeobject.c#L40\n",
    "a = 'short'\n",
    "b = 'short'\n",
    "\n",
    "c = 'i am not short string bla bla bla'\n",
    "d = 'i am not short string bla bla bla'\n",
    "\n",
    "print('a, b : ', are_they_same_instance(a, b))\n",
    "print('c, d : ', are_they_same_instance(c, d))"
   ]
  },
  {
   "cell_type": "code",
   "execution_count": 21,
   "metadata": {},
   "outputs": [
    {
     "name": "stdout",
     "output_type": "stream",
     "text": [
      "a, b :  different instance\n",
      "a, c :  same instance\n"
     ]
    }
   ],
   "source": [
    "# tip: interning(string)\n",
    "from sys import intern\n",
    "\n",
    "a = intern(\"i am not short string bla bla bla\")\n",
    "b = \"i am not short string bla bla bla\"\n",
    "c = intern(\"i am not short string bla bla bla\")\n",
    "\n",
    "print('a, b : ', are_they_same_instance(a, b))\n",
    "print('a, c : ', are_they_same_instance(a, c))"
   ]
  },
  {
   "cell_type": "code",
   "execution_count": null,
   "metadata": {},
   "outputs": [],
   "source": []
  }
 ],
 "metadata": {
  "kernelspec": {
   "display_name": "Python 3",
   "language": "python",
   "name": "python3"
  },
  "language_info": {
   "codemirror_mode": {
    "name": "ipython",
    "version": 3
   },
   "file_extension": ".py",
   "mimetype": "text/x-python",
   "name": "python",
   "nbconvert_exporter": "python",
   "pygments_lexer": "ipython3",
   "version": "3.7.2"
  }
 },
 "nbformat": 4,
 "nbformat_minor": 2
}
