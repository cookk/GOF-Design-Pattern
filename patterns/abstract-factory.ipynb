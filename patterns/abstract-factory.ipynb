{
 "cells": [
  {
   "cell_type": "code",
   "execution_count": 1,
   "metadata": {},
   "outputs": [],
   "source": [
    "class Coffee(object):\n",
    "    \n",
    "    def __init__(self):\n",
    "        self._price = 0\n",
    "        self._name = '커피'\n",
    "\n",
    "    def get_price(self):\n",
    "        return self._price\n",
    "\n",
    "    def get_name(self):\n",
    "        return self._name\n",
    "\n",
    "class Americano(Coffee):\n",
    "    def __init__(self):\n",
    "        self._price = 3000\n",
    "        self._name = '아메리카노'\n",
    "\n",
    "class Latte(Coffee):\n",
    "    def __init__(self):\n",
    "        self._price = 4000\n",
    "        self._name = '라떼'\n",
    "        \n",
    "class StarbucksAmericano(Latte):\n",
    "    def __init__(self):\n",
    "        self._price = 5000\n",
    "        self._name = '스타벅스 아메리카노'\n",
    "        \n",
    "class StarbucksLatte(Latte):\n",
    "    def __init__(self):\n",
    "        self._price = 5500\n",
    "        self._name = '스타벅스 라떼'\n",
    "        \n",
    "class PaiksAmericano(Latte):\n",
    "    def __init__(self):\n",
    "        self._price = 2000\n",
    "        self._name = '빽스 아메리카노'\n",
    "        \n",
    "class PaiksLatte(Latte):\n",
    "    def __init__(self):\n",
    "        self._price = 2000\n",
    "        self._name = '빽스 라떼'\n",
    "\n",
    "class Cafe:\n",
    "    def create_americano(self):\n",
    "        pass\n",
    "    \n",
    "    def create_latte(self):\n",
    "        pass\n",
    "\n",
    "class Starbucks(Cafe):\n",
    "    def create_americano(self):\n",
    "        return StarbucksAmericano()\n",
    "    \n",
    "    def create_latte(self):\n",
    "        return StarbucksLatte()\n",
    "\n",
    "\n",
    "class PaiksDabang(Cafe):\n",
    "    def create_americano(self):\n",
    "        return PaiksAmericano()\n",
    "    \n",
    "    def create_latte(self):\n",
    "        return PaiksLatte()"
   ]
  },
  {
   "cell_type": "code",
   "execution_count": 2,
   "metadata": {},
   "outputs": [
    {
     "name": "stdout",
     "output_type": "stream",
     "text": [
      "빽스 아메리카노\n",
      "스타벅스 라떼\n"
     ]
    }
   ],
   "source": [
    "paiks_dabang_1st = PaiksDabang()\n",
    "starbucks_1st = Starbucks()\n",
    "americano = paiks_dabang_1st.create_americano()\n",
    "latte = starbucks_1st.create_latte()\n",
    "print(americano.get_name())\n",
    "print(latte.get_name())"
   ]
  },
  {
   "cell_type": "markdown",
   "metadata": {},
   "source": [
    "### 아이스크림 메뉴를 추가하려면 어렵다. 모든 팩토리(여기서는 카페)의 변경이 필요하게된다."
   ]
  }
 ],
 "metadata": {
  "kernelspec": {
   "display_name": "Python 3",
   "language": "python",
   "name": "python3"
  },
  "language_info": {
   "codemirror_mode": {
    "name": "ipython",
    "version": 3
   },
   "file_extension": ".py",
   "mimetype": "text/x-python",
   "name": "python",
   "nbconvert_exporter": "python",
   "pygments_lexer": "ipython3",
   "version": "3.7.2"
  }
 },
 "nbformat": 4,
 "nbformat_minor": 2
}
