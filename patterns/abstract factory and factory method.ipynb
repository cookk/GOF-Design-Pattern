{
 "cells": [
  {
   "cell_type": "markdown",
   "metadata": {},
   "source": [
    "## Abstract Factory & Factory Method 개요\n",
    "### Abstract Factory\n",
    "- Abstract Factory는 Factory Method 패턴을 이용하여 구현된다.\n",
    "- 객체를 생성하기 위해 인터페이스를 정의하지만, 어떤 클래스의 인스턴스를 생성할지는 서브 클래스에서 결정한다.\n",
    "- 클래스간의 결합도를 낮추기 위해 사용한다.(결합도란 클래스의 변경점이 생겼을 때 얼마나 다른 클래스에 영향을 주는지를 말한다)\n",
    "### factory method\n",
    "- 어떤 클래스가 자신이 생성해야 하는 객체의 클래스를 예측할 수 없을 때\n",
    "- 생성할 객체를 기술하는 책임을 자신의 서브클래스가 지정했으면 할 때"
   ]
  },
  {
   "cell_type": "code",
   "execution_count": 7,
   "metadata": {},
   "outputs": [],
   "source": [
    "class Coffee(object):\n",
    "    TYPE_AMERICANO = 0\n",
    "    TYPE_MOCA = 1\n",
    "    TYPE_LATTE = 2\n",
    "\n",
    "    def __init__(self):\n",
    "        self._price = 0\n",
    "        self._name = '슈뢰딩거의 커피'\n",
    "\n",
    "    def get_price(self):\n",
    "        return self._price\n",
    "\n",
    "    def get_name(self):\n",
    "        return self._name\n",
    "\n",
    "class Americano(Coffee):\n",
    "    def __init__(self):\n",
    "        self._price = 3000\n",
    "        self._name = '시럽 안넣은 아메리카노'\n",
    "\n",
    "class Moca(Coffee):\n",
    "    def __init__(self):\n",
    "        self._price = 3500\n",
    "        self._name = '휘핑크림 올린 모카'\n",
    "\n",
    "class Latte(Coffee):\n",
    "    def __init__(self):\n",
    "        self._price = 4000\n",
    "        self._name = '달달 라떼'\n",
    "\n",
    "class Cafe:\n",
    "    def create_coffee(self, coffee_type):\n",
    "        return {\n",
    "            0: Americano(),\n",
    "            1: Moca(),\n",
    "            2: Latte()\n",
    "        }.get(coffee_type, Coffee())"
   ]
  },
  {
   "cell_type": "code",
   "execution_count": 8,
   "metadata": {},
   "outputs": [
    {
     "name": "stdout",
     "output_type": "stream",
     "text": [
      "달달 라떼\n",
      "슈뢰딩거의 커피\n"
     ]
    }
   ],
   "source": [
    "my_cafe = Cafe()\n",
    "print(my_cafe.create_coffee(2).get_name())\n",
    "print(my_cafe.create_coffee(3).get_name())"
   ]
  },
  {
   "cell_type": "code",
   "execution_count": 10,
   "metadata": {},
   "outputs": [],
   "source": [
    "class Car(object):\n",
    "    \n",
    "    def drive(self):\n",
    "        pass\n",
    "    \n",
    "    def stop(self):\n",
    "        pass\n",
    "    \n",
    "    def play_music(self):\n",
    "        pass\n",
    "\n",
    "    \n",
    "class CarTester(object):\n",
    "    \n",
    "    def __init__(self, car):\n",
    "        self.car = car\n",
    "    \n",
    "    def test_car(self):\n",
    "        self.car.drive()\n",
    "        self.car.stop()\n",
    "        self.car.play_music()\n",
    "\n",
    "        \n",
    "class Bmw(Car):\n",
    "    \n",
    "    def drive(self):\n",
    "        print('drive bmw')\n",
    "        \n",
    "    def stop(self):\n",
    "        print('stop bmw')\n",
    "        \n",
    "    def play_music(self):\n",
    "        print('play_music bmw')"
   ]
  },
  {
   "cell_type": "code",
   "execution_count": 11,
   "metadata": {},
   "outputs": [
    {
     "name": "stdout",
     "output_type": "stream",
     "text": [
      "drive bmw\n",
      "stop bmw\n",
      "play_music bmw\n"
     ]
    }
   ],
   "source": [
    "car = Bmw()\n",
    "car_tester = CarTester(car)\n",
    "car_tester.test_car()"
   ]
  },
  {
   "cell_type": "code",
   "execution_count": null,
   "metadata": {},
   "outputs": [],
   "source": []
  }
 ],
 "metadata": {
  "kernelspec": {
   "display_name": "Python 3",
   "language": "python",
   "name": "python3"
  },
  "language_info": {
   "codemirror_mode": {
    "name": "ipython",
    "version": 3
   },
   "file_extension": ".py",
   "mimetype": "text/x-python",
   "name": "python",
   "nbconvert_exporter": "python",
   "pygments_lexer": "ipython3",
   "version": "3.7.2"
  }
 },
 "nbformat": 4,
 "nbformat_minor": 2
}
