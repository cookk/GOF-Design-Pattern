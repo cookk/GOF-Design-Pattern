{
 "cells": [
  {
   "cell_type": "code",
   "execution_count": 2,
   "metadata": {},
   "outputs": [],
   "source": [
    "class Character(object):\n",
    "    \n",
    "    def __init__(self, name):\n",
    "        self.name = name\n",
    "        self.job = 'None'\n",
    "        self.guild = 'None'\n",
    "        self.level = 0\n",
    "        \n",
    "    def get_info(self):\n",
    "        return {\n",
    "            'name': self.name,\n",
    "            'job': self.job,\n",
    "            'guild': self.guild,\n",
    "            'level': self.level\n",
    "        }\n",
    "\n",
    "class CharacterBuilder(object):\n",
    "    \n",
    "    def __init__(self, name):\n",
    "        self.create_character(name)\n",
    "        \n",
    "    def create_character(self, name):\n",
    "        self._character = Character(name)\n",
    "    \n",
    "    def set_name(self, name):\n",
    "        self._character.name = name\n",
    "    \n",
    "    def set_job(self, job):\n",
    "        self._character.job = job\n",
    "    \n",
    "    def set_level(self, level):\n",
    "        self._character.level = level\n",
    "        \n",
    "    def set_guild(self, guild_name):\n",
    "        self._character.guild = guild_name\n",
    "\n",
    "    def get_character(self):\n",
    "        return self._character\n",
    "        "
   ]
  },
  {
   "cell_type": "code",
   "execution_count": 4,
   "metadata": {},
   "outputs": [
    {
     "name": "stdout",
     "output_type": "stream",
     "text": [
      "{'name': 'cook', 'job': 'warrior', 'guild': 'prugio', 'level': 99}\n"
     ]
    }
   ],
   "source": [
    "builder = CharacterBuilder('cook')\n",
    "builder.set_job('warrior')\n",
    "builder.set_level(99)\n",
    "builder.set_guild('prugio')\n",
    "my_character = builder.get_character()\n",
    "\n",
    "print(my_character.get_info())"
   ]
  },
  {
   "cell_type": "code",
   "execution_count": null,
   "metadata": {},
   "outputs": [],
   "source": []
  }
 ],
 "metadata": {
  "kernelspec": {
   "display_name": "Python 3",
   "language": "python",
   "name": "python3"
  },
  "language_info": {
   "codemirror_mode": {
    "name": "ipython",
    "version": 3
   },
   "file_extension": ".py",
   "mimetype": "text/x-python",
   "name": "python",
   "nbconvert_exporter": "python",
   "pygments_lexer": "ipython3",
   "version": "3.7.2"
  }
 },
 "nbformat": 4,
 "nbformat_minor": 2
}
